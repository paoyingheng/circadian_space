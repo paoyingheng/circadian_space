{
 "cells": [
  {
   "cell_type": "markdown",
   "id": "cb3a8cdf-69c9-418d-9a06-7f293d3440fb",
   "metadata": {},
   "source": [
    "## Circadian Rhythm Disruptions in Space"
   ]
  },
  {
   "cell_type": "markdown",
   "id": "d1fe8da5-31b1-4210-8fe9-615e17110625",
   "metadata": {},
   "source": [
    "On Earth, humans follow a 24-hour sleep-wake cycle synchronized with the natural day-night cycle. However, astronauts aboard the ISS experience 16 sunrises and sunsets per day due to the station's high-speed orbit. This rapid cycling of light and dark disrupts their circadian rhythm, leading to:\n",
    "- Sleep deprivation\n",
    "- Cognitive decline\n",
    "- Increased stress levels"
   ]
  },
  {
   "cell_type": "markdown",
   "id": "dd8e71be-22f3-4d8e-abc1-24012aa6fcbd",
   "metadata": {},
   "source": [
    "These effects can be mitigated in various ways, including scheduled sleep routines and the use of artificial lighting systems that adjust the color spectrum and intensity to promote alertness or sleep [[1](https://www.nasa.gov/missions/station/seven-ways-astronauts-improve-sleep-may-help-you-snooze-better-on-earth/)]. However, the problem persists, especially for long-duration space missions."
   ]
  },
  {
   "cell_type": "markdown",
   "id": "6c9c5246-aaaa-4df3-a683-44e20dc2db51",
   "metadata": {},
   "source": [
    "### Project objective\n",
    "The goal of this project is to: \n",
    "- Compare the natural Earth 24-hour light cycle vs. the ISS’s 90-minute orbital light cycle.\n",
    "- Visualize how frequently astronauts experience \"daylight\" vs. \"darkness\" in a given time frame.\n",
    "- Analyze the potential impact on sleep patterns."
   ]
  },
  {
   "cell_type": "code",
   "execution_count": 9,
   "id": "d1d39997-cf80-46aa-a340-e907b1a61e2b",
   "metadata": {},
   "outputs": [],
   "source": [
    "import pandas as pd"
   ]
  },
  {
   "cell_type": "code",
   "execution_count": 38,
   "id": "ab50be03-4bbc-4d15-ac01-a4684c802a08",
   "metadata": {},
   "outputs": [],
   "source": [
    "# defining light cycles on Earth and ISS\n",
    "# simulating a simple 24-hour cycle on Earth\n",
    "\n",
    "earth_minutes = list(range(24*60))  # creating a list of 24*60 mins =  0 to 1440 minutes\n",
    "iss_minutes = list(range(24*60))"
   ]
  },
  {
   "cell_type": "code",
   "execution_count": 29,
   "id": "82a2add8-9cf4-4a43-aaa8-01c59bc9444d",
   "metadata": {},
   "outputs": [],
   "source": [
    "earth_hours = list(range(24*60))  # creating a list of 24*60 mins =  0 to 1440 minutes\n",
    "\n",
    "def earth_light_cycle(minute):\n",
    "    if 360 <= minute <= 1080:\n",
    "        return 1 # daylight ie light ON\n",
    "    else:\n",
    "        return 0 # darkness ie light OFF\n",
    "earth_light = [earth_light_cycle(minute) for minute in earth_minutes]         \n"
   ]
  },
  {
   "cell_type": "code",
   "execution_count": 58,
   "id": "2d4a6bfc-72cb-4c44-ac96-8f0622c63f3f",
   "metadata": {
    "scrolled": true
   },
   "outputs": [],
   "source": [
    "# creating a function for ISS light cycle\n",
    "# recall that ISS has a 90-minute orbit.\n",
    "\n",
    "iss_minutes = list(range(90))\n",
    "\n",
    "def iss_light_cycle(minute):\n",
    "    if (minute % 90) < 45:\n",
    "        return 1 # light ON\n",
    "    else:\n",
    "        return 0 # light OFF"
   ]
  },
  {
   "cell_type": "code",
   "execution_count": 60,
   "id": "50aac559-3caf-49f5-84eb-065a40f1449f",
   "metadata": {},
   "outputs": [
    {
     "name": "stdout",
     "output_type": "stream",
     "text": [
      "1\n",
      "0\n",
      "1\n",
      "0\n"
     ]
    }
   ],
   "source": [
    "# checking that our functions work\n",
    "print(iss_light_cycle(25)) # expected light ON \n",
    "print(iss_light_cycle(89)) # expected light OFF \n",
    "\n",
    "print(earth_light_cycle(400)) # expected light ON  \n",
    "print(earth_light_cycle(1400)) # expected light OFF  "
   ]
  },
  {
   "cell_type": "code",
   "execution_count": null,
   "id": "706617c3-930b-420d-ab7a-84f7924d31fd",
   "metadata": {},
   "outputs": [],
   "source": []
  },
  {
   "cell_type": "code",
   "execution_count": null,
   "id": "5558e39c-be37-44d2-9a0d-2966f25c443a",
   "metadata": {},
   "outputs": [],
   "source": []
  },
  {
   "cell_type": "code",
   "execution_count": null,
   "id": "9ec4d6c5-a150-4b44-ab6c-6cd55da1fe02",
   "metadata": {},
   "outputs": [],
   "source": []
  },
  {
   "cell_type": "code",
   "execution_count": null,
   "id": "3c406947-6839-4db7-9a04-02e560ee643f",
   "metadata": {},
   "outputs": [],
   "source": []
  },
  {
   "cell_type": "code",
   "execution_count": null,
   "id": "bbd26937-6c41-4604-88e4-0c9ce99dd918",
   "metadata": {},
   "outputs": [],
   "source": []
  }
 ],
 "metadata": {
  "kernelspec": {
   "display_name": "Python 3 (ipykernel)",
   "language": "python",
   "name": "python3"
  },
  "language_info": {
   "codemirror_mode": {
    "name": "ipython",
    "version": 3
   },
   "file_extension": ".py",
   "mimetype": "text/x-python",
   "name": "python",
   "nbconvert_exporter": "python",
   "pygments_lexer": "ipython3",
   "version": "3.10.12"
  }
 },
 "nbformat": 4,
 "nbformat_minor": 5
}
